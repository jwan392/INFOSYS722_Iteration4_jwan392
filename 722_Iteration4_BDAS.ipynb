{
 "cells": [
  {
   "cell_type": "code",
   "execution_count": 41,
   "id": "dd2d49a9",
   "metadata": {},
   "outputs": [],
   "source": [
    "# Must be included at the beginning of each new notebook. Remember to change the app name.\n",
    "import findspark\n",
    "findspark.init('/home/ubuntu/spark-3.2.1-bin-hadoop2.7')\n",
    "import pyspark\n",
    "from pyspark.sql import SparkSession\n",
    "spark = SparkSession.builder.appName('722_Iteration4_BDAS_jwan392').getOrCreate()\n",
    "\n",
    "# If you're getting an error with numpy, please type 'sudo pip install numpy --user' into the EC2 console.\n",
    "from pyspark.ml.regression import LinearRegression\n",
    "\n",
    "import pandas as pd\n",
    "import numpy as np\n",
    "import seaborn as sns\n",
    "import matplotlib.pyplot as plt\n"
   ]
  },
  {
   "cell_type": "code",
   "execution_count": 28,
   "id": "465939c0",
   "metadata": {},
   "outputs": [],
   "source": [
    "# Use Spark to read in the Ecommerce Customers csv file. You can infer csv schemas. \n",
    "train = spark.read.csv(\"./train.csv\",inferSchema=True,header=True)"
   ]
  },
  {
   "cell_type": "code",
   "execution_count": 29,
   "id": "21193ba9",
   "metadata": {},
   "outputs": [
    {
     "name": "stdout",
     "output_type": "stream",
     "text": [
      "root\n",
      " |-- datetime: string (nullable = true)\n",
      " |-- season: integer (nullable = true)\n",
      " |-- holiday: integer (nullable = true)\n",
      " |-- workingday: integer (nullable = true)\n",
      " |-- weather: integer (nullable = true)\n",
      " |-- temp: double (nullable = true)\n",
      " |-- atemp: double (nullable = true)\n",
      " |-- humidity: integer (nullable = true)\n",
      " |-- windspeed: double (nullable = true)\n",
      " |-- casual: integer (nullable = true)\n",
      " |-- registered: integer (nullable = true)\n",
      " |-- count: integer (nullable = true)\n",
      " |-- comment: string (nullable = true)\n",
      "\n"
     ]
    }
   ],
   "source": [
    "# Print the schema of the DataFrame. You can see potential features as well as the predictor.\n",
    "train.printSchema()"
   ]
  },
  {
   "cell_type": "code",
   "execution_count": 30,
   "id": "e786118c",
   "metadata": {},
   "outputs": [
    {
     "data": {
      "text/plain": [
       "Row(datetime='2011/1/1 0:00', season=1, holiday=0, workingday=0, weather=1, temp=9.84, atemp=14.395, humidity=81, windspeed=0.0, casual=3, registered=13, count=16, comment=None)"
      ]
     },
     "execution_count": 30,
     "metadata": {},
     "output_type": "execute_result"
    }
   ],
   "source": [
    "# Let's focus on one row to make it easier to read.\n",
    "train.head()"
   ]
  },
  {
   "cell_type": "code",
   "execution_count": 31,
   "id": "bae27c1c",
   "metadata": {},
   "outputs": [
    {
     "name": "stdout",
     "output_type": "stream",
     "text": [
      "+-------+-------------+------------------+-------------------+------------------+------------------+------------------+-----------------+------------------+------------------+-----------------+------------------+------------------+-------+\n",
      "|summary|     datetime|            season|            holiday|        workingday|           weather|              temp|            atemp|          humidity|         windspeed|           casual|        registered|             count|comment|\n",
      "+-------+-------------+------------------+-------------------+------------------+------------------+------------------+-----------------+------------------+------------------+-----------------+------------------+------------------+-------+\n",
      "|  count|        10886|             10886|              10886|             10886|             10886|             10886|            10886|             10886|             10886|            10886|             10886|             10886|      0|\n",
      "|   mean|         null|2.5066139996325556|0.02856880396839978|0.6808745177291935| 1.418427337865148|20.230859819952173|23.65508405291192| 61.88645967297446|12.799395406945093|36.02195480433584| 155.5521771082124|191.57413191254824|   null|\n",
      "| stddev|         null|1.1161743093443237|0.16659885062470944|0.4661591687997361|0.6338385858190968| 7.791589843987573| 8.47460062648494|19.245033277394704|  8.16453732683871|49.96047657264955|151.03903308192452|181.14445383028493|   null|\n",
      "|    min|2011/1/1 0:00|                 1|                  0|                 0|                 1|              0.82|             0.76|                 0|               0.0|                0|                 0|                 1|   null|\n",
      "|    max|2012/9/9 9:00|                 4|                  1|                 1|                 4|              41.0|           45.455|               100|           56.9969|              367|               886|               977|   null|\n",
      "+-------+-------------+------------------+-------------------+------------------+------------------+------------------+-----------------+------------------+------------------+-----------------+------------------+------------------+-------+\n",
      "\n"
     ]
    }
   ],
   "source": [
    "train.describe().show()"
   ]
  },
  {
   "cell_type": "code",
   "execution_count": 32,
   "id": "4583a65c",
   "metadata": {},
   "outputs": [
    {
     "data": {
      "text/plain": [
       "['datetime',\n",
       " 'season',\n",
       " 'holiday',\n",
       " 'workingday',\n",
       " 'weather',\n",
       " 'temp',\n",
       " 'atemp',\n",
       " 'humidity',\n",
       " 'windspeed',\n",
       " 'casual',\n",
       " 'registered',\n",
       " 'count',\n",
       " 'comment']"
      ]
     },
     "execution_count": 32,
     "metadata": {},
     "output_type": "execute_result"
    }
   ],
   "source": [
    "train.columns"
   ]
  },
  {
   "cell_type": "code",
   "execution_count": 33,
   "id": "580998e1",
   "metadata": {},
   "outputs": [
    {
     "name": "stdout",
     "output_type": "stream",
     "text": [
      "+--------------+------+-------+----------+-------+-----+------+--------+---------+------+----------+-----+-------+\n",
      "|      datetime|season|holiday|workingday|weather| temp| atemp|humidity|windspeed|casual|registered|count|comment|\n",
      "+--------------+------+-------+----------+-------+-----+------+--------+---------+------+----------+-----+-------+\n",
      "| 2011/1/1 0:00|     1|      0|         0|      1| 9.84|14.395|      81|      0.0|     3|        13|   16|   null|\n",
      "| 2011/1/1 1:00|     1|      0|         0|      1| 9.02|13.635|      80|      0.0|     8|        32|   40|   null|\n",
      "| 2011/1/1 2:00|     1|      0|         0|      1| 9.02|13.635|      80|      0.0|     5|        27|   32|   null|\n",
      "| 2011/1/1 3:00|     1|      0|         0|      1| 9.84|14.395|      75|      0.0|     3|        10|   13|   null|\n",
      "| 2011/1/1 4:00|     1|      0|         0|      1| 9.84|14.395|      75|      0.0|     0|         1|    1|   null|\n",
      "| 2011/1/1 5:00|     1|      0|         0|      2| 9.84| 12.88|      75|   6.0032|     0|         1|    1|   null|\n",
      "| 2011/1/1 6:00|     1|      0|         0|      1| 9.02|13.635|      80|      0.0|     2|         0|    2|   null|\n",
      "| 2011/1/1 7:00|     1|      0|         0|      1|  8.2| 12.88|      86|      0.0|     1|         2|    3|   null|\n",
      "| 2011/1/1 8:00|     1|      0|         0|      1| 9.84|14.395|      75|      0.0|     1|         7|    8|   null|\n",
      "| 2011/1/1 9:00|     1|      0|         0|      1|13.12|17.425|      76|      0.0|     8|         6|   14|   null|\n",
      "|2011/1/1 10:00|     1|      0|         0|      1|15.58|19.695|      76|  16.9979|    12|        24|   36|   null|\n",
      "|2011/1/1 11:00|     1|      0|         0|      1|14.76|16.665|      81|  19.0012|    26|        30|   56|   null|\n",
      "|2011/1/1 12:00|     1|      0|         0|      1|17.22| 21.21|      77|  19.0012|    29|        55|   84|   null|\n",
      "|2011/1/1 13:00|     1|      0|         0|      2|18.86|22.725|      72|  19.9995|    47|        47|   94|   null|\n",
      "|2011/1/1 14:00|     1|      0|         0|      2|18.86|22.725|      72|  19.0012|    35|        71|  106|   null|\n",
      "|2011/1/1 15:00|     1|      0|         0|      2|18.04| 21.97|      77|  19.9995|    40|        70|  110|   null|\n",
      "|2011/1/1 16:00|     1|      0|         0|      2|17.22| 21.21|      82|  19.9995|    41|        52|   93|   null|\n",
      "|2011/1/1 17:00|     1|      0|         0|      2|18.04| 21.97|      82|  19.0012|    15|        52|   67|   null|\n",
      "|2011/1/1 18:00|     1|      0|         0|      3|17.22| 21.21|      88|  16.9979|     9|        26|   35|   null|\n",
      "|2011/1/1 19:00|     1|      0|         0|      3|17.22| 21.21|      88|  16.9979|     6|        31|   37|   null|\n",
      "+--------------+------+-------+----------+-------+-----+------+--------+---------+------+----------+-----+-------+\n",
      "only showing top 20 rows\n",
      "\n"
     ]
    }
   ],
   "source": [
    "train.show()"
   ]
  },
  {
   "cell_type": "code",
   "execution_count": 34,
   "id": "fdcbdb6d",
   "metadata": {},
   "outputs": [
    {
     "data": {
      "text/plain": [
       "10886"
      ]
     },
     "execution_count": 34,
     "metadata": {},
     "output_type": "execute_result"
    }
   ],
   "source": [
    "train.count()"
   ]
  },
  {
   "cell_type": "code",
   "execution_count": 35,
   "id": "bc306fbd",
   "metadata": {},
   "outputs": [
    {
     "data": {
      "text/plain": [
       "[('datetime', 'string'),\n",
       " ('season', 'int'),\n",
       " ('holiday', 'int'),\n",
       " ('workingday', 'int'),\n",
       " ('weather', 'int'),\n",
       " ('temp', 'double'),\n",
       " ('atemp', 'double'),\n",
       " ('humidity', 'int'),\n",
       " ('windspeed', 'double'),\n",
       " ('casual', 'int'),\n",
       " ('registered', 'int'),\n",
       " ('count', 'int'),\n",
       " ('comment', 'string')]"
      ]
     },
     "execution_count": 35,
     "metadata": {},
     "output_type": "execute_result"
    }
   ],
   "source": [
    "train.dtypes"
   ]
  },
  {
   "cell_type": "code",
   "execution_count": null,
   "id": "6bb0daaa",
   "metadata": {},
   "outputs": [],
   "source": []
  }
 ],
 "metadata": {
  "kernelspec": {
   "display_name": "Python 3 (ipykernel)",
   "language": "python",
   "name": "python3"
  },
  "language_info": {
   "codemirror_mode": {
    "name": "ipython",
    "version": 3
   },
   "file_extension": ".py",
   "mimetype": "text/x-python",
   "name": "python",
   "nbconvert_exporter": "python",
   "pygments_lexer": "ipython3",
   "version": "3.10.4"
  }
 },
 "nbformat": 4,
 "nbformat_minor": 5
}
